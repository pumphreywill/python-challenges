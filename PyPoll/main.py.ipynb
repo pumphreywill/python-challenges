{
 "cells": [
  {
   "cell_type": "code",
   "execution_count": 1,
   "metadata": {},
   "outputs": [],
   "source": [
    "import pandas as pd\n",
    "import os\n",
    "import csv"
   ]
  },
  {
   "cell_type": "code",
   "execution_count": 2,
   "metadata": {},
   "outputs": [],
   "source": [
    "file_to_load = os.path.join(\"Resources\", \"election_data.csv\")\n",
    "file_to_output = os.path.join(\"Election\", \"election_analysis.txt\")"
   ]
  },
  {
   "cell_type": "code",
   "execution_count": 3,
   "metadata": {},
   "outputs": [
    {
     "data": {
      "text/html": [
       "<div>\n",
       "<style scoped>\n",
       "    .dataframe tbody tr th:only-of-type {\n",
       "        vertical-align: middle;\n",
       "    }\n",
       "\n",
       "    .dataframe tbody tr th {\n",
       "        vertical-align: top;\n",
       "    }\n",
       "\n",
       "    .dataframe thead th {\n",
       "        text-align: right;\n",
       "    }\n",
       "</style>\n",
       "<table border=\"1\" class=\"dataframe\">\n",
       "  <thead>\n",
       "    <tr style=\"text-align: right;\">\n",
       "      <th></th>\n",
       "      <th>Voter ID</th>\n",
       "      <th>County</th>\n",
       "      <th>Candidate</th>\n",
       "    </tr>\n",
       "  </thead>\n",
       "  <tbody>\n",
       "    <tr>\n",
       "      <th>0</th>\n",
       "      <td>12864552</td>\n",
       "      <td>Marsh</td>\n",
       "      <td>Khan</td>\n",
       "    </tr>\n",
       "    <tr>\n",
       "      <th>1</th>\n",
       "      <td>17444633</td>\n",
       "      <td>Marsh</td>\n",
       "      <td>Correy</td>\n",
       "    </tr>\n",
       "    <tr>\n",
       "      <th>2</th>\n",
       "      <td>19330107</td>\n",
       "      <td>Marsh</td>\n",
       "      <td>Khan</td>\n",
       "    </tr>\n",
       "    <tr>\n",
       "      <th>3</th>\n",
       "      <td>19865775</td>\n",
       "      <td>Queen</td>\n",
       "      <td>Khan</td>\n",
       "    </tr>\n",
       "    <tr>\n",
       "      <th>4</th>\n",
       "      <td>11927875</td>\n",
       "      <td>Marsh</td>\n",
       "      <td>Khan</td>\n",
       "    </tr>\n",
       "  </tbody>\n",
       "</table>\n",
       "</div>"
      ],
      "text/plain": [
       "   Voter ID County Candidate\n",
       "0  12864552  Marsh      Khan\n",
       "1  17444633  Marsh    Correy\n",
       "2  19330107  Marsh      Khan\n",
       "3  19865775  Queen      Khan\n",
       "4  11927875  Marsh      Khan"
      ]
     },
     "execution_count": 3,
     "metadata": {},
     "output_type": "execute_result"
    }
   ],
   "source": [
    "filepath = \"Resources/election_data.csv\"\n",
    "df = pd.read_csv(filepath)\n",
    "df.head()"
   ]
  },
  {
   "cell_type": "code",
   "execution_count": 4,
   "metadata": {},
   "outputs": [],
   "source": [
    "total_votes = 0"
   ]
  },
  {
   "cell_type": "code",
   "execution_count": 5,
   "metadata": {},
   "outputs": [],
   "source": [
    "candidates = []\n",
    "candidate_count = {}"
   ]
  },
  {
   "cell_type": "code",
   "execution_count": 6,
   "metadata": {},
   "outputs": [],
   "source": [
    "winner = \"\"\n",
    "winner_count = 0"
   ]
  },
  {
   "cell_type": "code",
   "execution_count": 7,
   "metadata": {},
   "outputs": [],
   "source": [
    "with open(file_to_load) as election_data:\n",
    "    reader = csv.reader(election_data)\n",
    "\n",
    "    header = next(reader)\n",
    "\n",
    "    for row in reader:\n",
    "\n",
    "\n",
    "        total_votes = total_votes + 1\n",
    "\n",
    "        candidate = row[2]\n",
    "\n",
    "        if candidate not in candidates:\n",
    "\n",
    "            # Add it to the list of candidates in the running\n",
    "            candidates.append(candidate)\n",
    "\n",
    "            # And begin tracking that candidate's voter count\n",
    "            candidate_count[candidate] = 0\n",
    "\n",
    "        # Then add a vote to that candidate's count\n",
    "        candidate_count[candidate] = candidate_count[candidate] + 1"
   ]
  },
  {
   "cell_type": "code",
   "execution_count": 8,
   "metadata": {},
   "outputs": [
    {
     "name": "stdout",
     "output_type": "stream",
     "text": [
      "\n",
      "\n",
      "Results\n",
      "------------------------\n",
      "Total Votes: 3521001\n",
      "------------------------\n",
      "\n",
      "Khan: 0.630% (2218231)\n",
      "\n",
      "---------------\n",
      "Winner: Khan\n",
      "_______________\n",
      "\n",
      "Correy: 0.200% (704200)\n",
      "\n",
      "---------------\n",
      "Winner: Khan\n",
      "_______________\n",
      "\n",
      "Li: 0.140% (492940)\n",
      "\n",
      "---------------\n",
      "Winner: Khan\n",
      "_______________\n",
      "\n",
      "O'Tooley: 0.030% (105630)\n",
      "\n",
      "---------------\n",
      "Winner: Khan\n",
      "_______________\n",
      "\n"
     ]
    }
   ],
   "source": [
    "with open(file_to_output, \"w\") as txt_file:\n",
    "\n",
    "    results = (\n",
    "        f\"\\n\\nResults\\n\"\n",
    "        f\"------------------------\\n\"\n",
    "        f\"Total Votes: {total_votes}\\n\"\n",
    "        f\"------------------------\\n\"\n",
    "    ) \n",
    "    print(results)\n",
    "    \n",
    "    txt_file.write(results)\n",
    "    \n",
    "    for candidate in candidate_count:\n",
    "        votes = candidate_count.get(candidate)\n",
    "        percent_of_votes = float(votes) / float(total_votes)\n",
    "\n",
    "        if (votes > winner_count):\n",
    "            winner_count = votes\n",
    "            winner = candidate\n",
    "        \n",
    "        voter_out = f\"{candidate}: {percent_of_votes:.3f}% ({votes})\\n\"\n",
    "        print(voter_out)\n",
    "\n",
    "        txt_file.write(voter_out)\n",
    "\n",
    "        winner_summary = (\n",
    "\n",
    "            f\"---------------\\n\"\n",
    "            f\"Winner: {winner}\\n\"\n",
    "            f\"_______________\\n\"\n",
    "        )\n",
    "        print(winner_summary)\n",
    "        \n",
    "        txt_file.write(winner_summary)"
   ]
  },
  {
   "cell_type": "code",
   "execution_count": null,
   "metadata": {},
   "outputs": [],
   "source": []
  }
 ],
 "metadata": {
  "kernelspec": {
   "display_name": "Python 3",
   "language": "python",
   "name": "python3"
  },
  "language_info": {
   "codemirror_mode": {
    "name": "ipython",
    "version": 3
   },
   "file_extension": ".py",
   "mimetype": "text/x-python",
   "name": "python",
   "nbconvert_exporter": "python",
   "pygments_lexer": "ipython3",
   "version": "3.7.6"
  }
 },
 "nbformat": 4,
 "nbformat_minor": 2
}
